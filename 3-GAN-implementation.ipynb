{
  "nbformat": 4,
  "nbformat_minor": 0,
  "metadata": {
    "colab": {
      "provenance": []
    },
    "kernelspec": {
      "name": "python3",
      "display_name": "Python 3"
    },
    "language_info": {
      "name": "python"
    }
  },
  "cells": [
    {
      "cell_type": "code",
      "execution_count": null,
      "metadata": {
        "id": "G0UcnVJk-kSk"
      },
      "outputs": [],
      "source": [
        "# General imports\n",
        "import os\n",
        "import random\n",
        "import numpy as np\n",
        "import matplotlib.pyplot as plt\n",
        "import cv2\n",
        "import pickle\n",
        "import skimage\n",
        "from skimage.io import imread, imshow\n",
        "from glob import glob\n",
        "from sklearn.model_selection import train_test_split\n",
        "from sklearn.preprocessing import LabelBinarizer, MultiLabelBinarizer\n",
        "from sklearn.metrics import confusion_matrix, classification_report, accuracy_score, roc_curve, auc, roc_auc_score\n",
        "\n",
        "# TensorFlow/Keras imports\n",
        "import tensorflow as tf\n",
        "from tensorflow import keras\n",
        "from tensorflow.keras.models import Sequential, Model, load_model\n",
        "from tensorflow.keras.layers import Conv2D, MaxPooling2D, Activation, Dropout, Flatten, Dense, BatchNormalization, GlobalAveragePooling2D\n",
        "from tensorflow.keras.applications import VGG16, DenseNet121\n",
        "from tensorflow.keras.callbacks import ModelCheckpoint, CSVLogger, EarlyStopping, ReduceLROnPlateau\n",
        "from tensorflow.keras.preprocessing.image import ImageDataGenerator, img_to_array\n",
        "from tensorflow.keras import backend as K\n",
        "from tensorflow.keras import optimizers\n",
        "from tensorflow.python.client import device_lib\n",
        "\n",
        "# Ensure that GPU memory growth is enabled (optional, GPU-specific)\n",
        "physical_devices = tf.config.list_physical_devices('GPU')\n",
        "if physical_devices:\n",
        "    tf.config.experimental.set_memory_growth(physical_devices[0], True)\n",
        "\n",
        "# Set random seed for reproducibility\n",
        "np.random.seed(42)\n",
        "\n",
        "# Display setup\n",
        "%matplotlib inline"
      ]
    },
    {
      "cell_type": "code",
      "source": [
        "x_train = np.load(\"x_train_leuknet.npy\")\n",
        "y_train = np.load(\"y_train_leuknet.npy\")"
      ],
      "metadata": {
        "id": "f2pwnadfAtcD"
      },
      "execution_count": null,
      "outputs": []
    },
    {
      "cell_type": "code",
      "source": [
        "num_classes = 2\n",
        "\n",
        "y_train = np_utils.to_categorical(y_train,num_classes)"
      ],
      "metadata": {
        "id": "h-xdkVDYAvon"
      },
      "execution_count": null,
      "outputs": []
    },
    {
      "cell_type": "code",
      "source": [
        "x_train.shape, y_train.shape"
      ],
      "metadata": {
        "id": "RtB8BeNOAy2x"
      },
      "execution_count": null,
      "outputs": []
    },
    {
      "cell_type": "code",
      "source": [
        "from sklearn.utils import class_weight\n",
        "class_weights = class_weight.compute_class_weight('balanced', np.unique(np.argmax(y_train, axis=1)),np.argmax(y_train, axis=1))\n",
        "print(\"class weights: \",class_weights)"
      ],
      "metadata": {
        "id": "ZxfW2_0nA0mK"
      },
      "execution_count": null,
      "outputs": []
    },
    {
      "cell_type": "code",
      "source": [
        "def crop_center(img, bounding):\n",
        "    start = tuple(map(lambda a, da: a//2-da//2, img.shape, bounding))\n",
        "    end = tuple(map(operator.add, start, bounding))\n",
        "    slices = tuple(map(slice, start, end))\n",
        "    im = img[slices].astype('float32')\n",
        "    return im"
      ],
      "metadata": {
        "id": "6VEtlVmK-uhW"
      },
      "execution_count": null,
      "outputs": []
    },
    {
      "cell_type": "code",
      "source": [
        "VAL_ALL_PATH = r'/content/drive/MyDrive/leukemia/ALLIDB-2 best models/High/Test/all'\n",
        "VAL_HEM_PATH = r'/content/drive/MyDrive/leukemia/ALLIDB-2 best models/High/Test/hem'"
      ],
      "metadata": {
        "id": "NxC6naLf-wjY"
      },
      "execution_count": null,
      "outputs": []
    },
    {
      "cell_type": "code",
      "source": [
        "all_list = os.listdir(VAL_ALL_PATH)\n",
        "hem_list = os.listdir(VAL_HEM_PATH)\n",
        "all_list.sort()\n",
        "hem_list.sort()\n",
        "PATH = VAL_HEM_PATH\n",
        "LIST = hem_list"
      ],
      "metadata": {
        "id": "L12wSbAi-zJ5"
      },
      "execution_count": null,
      "outputs": []
    },
    {
      "cell_type": "code",
      "source": [
        "root_dir = r'/content/drive/MyDrive/leukemia/ALLIDB-2 best models/Low'\n",
        "model_name = r'DenseNet121_low_class_weight.h5'\n",
        "last_conv_layer_name = \"conv5_block16_concat\"\n",
        "out_dir = r'/content/drive/MyDrive/leukemia/ALLIDB-2 best models/Low/corresponding heatmaps/hem'\n",
        "index = 0"
      ],
      "metadata": {
        "id": "3iEjl3lh-19I"
      },
      "execution_count": null,
      "outputs": []
    },
    {
      "cell_type": "code",
      "source": [
        "\n",
        "crop_height = 150\n",
        "crop_width = 150\n"
      ],
      "metadata": {
        "id": "CSZSlh9_--iE"
      },
      "execution_count": null,
      "outputs": []
    },
    {
      "cell_type": "code",
      "source": [
        "\n",
        "import os\n",
        "import skimage\n",
        "from skimage.io import imread, imshow\n",
        "img_all = imread(os.path.join(PATH, LIST[0]))\n",
        "print('MAx: ', np.max(img_all))\n",
        "print('MIN: ', np.min(img_all))\n",
        "cropped_img_all = crop_center(img_all, (crop_height,crop_width,3))\n",
        "print('Cropped_img MAx: ', np.max(cropped_img_all))\n",
        "print('Cropped_img MIN: ', np.min(cropped_img_all))\n",
        "cropped_img_all = cropped_img_all.astype('uint8')\n",
        "print(cropped_img_all.dtype)\n",
        "imshow(cropped_img_all)\n",
        "rescaled_cropped_img_all = cropped_img_all * (1.0/255.0)\n",
        "print('Rescaled_cropped_img MAx: ', np.max(rescaled_cropped_img_all))\n",
        "print('Resclased_cropped_img MIN: ', np.min(rescaled_cropped_img_all))\n",
        "print(type(rescaled_cropped_img_all))\n",
        "print(rescaled_cropped_img_all.shape)\n",
        "print(rescaled_cropped_img_all.dtype)\n",
        "array = np.expand_dims(rescaled_cropped_img_all, axis=0)\n",
        "print(array.dtype, array.shape)"
      ],
      "metadata": {
        "id": "6w0qFSaR_AbZ"
      },
      "execution_count": null,
      "outputs": []
    },
    {
      "cell_type": "code",
      "source": [
        "from tensorflow import keras\n",
        "model = keras.models.load_model(os.path.join(root_dir, model_name), compile=False)\n",
        "model.summary()\n",
        "print(model.layers[-1].name)"
      ],
      "metadata": {
        "id": "h91SEdFb_I6t"
      },
      "execution_count": null,
      "outputs": []
    },
    {
      "cell_type": "code",
      "source": [
        "import tf_explain\n",
        "from tf_explain.core.grad_cam import GradCAM\n",
        "\n",
        "explainer = GradCAM()\n",
        "\n",
        "arr = array[0,:,:,:]\n",
        "data = ([arr], None)\n",
        "\n",
        "output = explainer.explain(data, model, class_index=index, layer_name=last_conv_layer_name, colormap=cv2.COLORMAP_JET)"
      ],
      "metadata": {
        "id": "JNAAI9O8_L9U"
      },
      "execution_count": null,
      "outputs": []
    },
    {
      "cell_type": "code",
      "source": [
        "for x in range(len(LIST)):\n",
        "    img = imread(os.path.join(PATH, LIST[x]))\n",
        "    cropped_img = crop_center(img, (crop_height,crop_width,3))\n",
        "    rescaled_cropped_img = cropped_img * (1./255.)\n",
        "    data = ([rescaled_cropped_img], None)\n",
        "    output = explainer.explain(data, model, class_index=index, layer_name=last_conv_layer_name, colormap=cv2.COLORMAP_JET)\n",
        "    output_dir = out_dir\n",
        "    output_name = LIST[x]\n",
        "    output_name = output_name[:-4]\n",
        "    output_name = output_name + '.png'\n",
        "    explainer.save(output, output_dir, output_name)\n",
        "\n",
        "print(\"Completed\")\n"
      ],
      "metadata": {
        "id": "XlMEmpau_O3U"
      },
      "execution_count": null,
      "outputs": []
    },
    {
      "cell_type": "code",
      "source": [
        "import os\n",
        "import numpy as np\n",
        "import skimage\n",
        "from skimage.io import imshow, imread, imsave\n",
        "print(len(LIST))\n",
        "pred_list = []\n",
        "for x in LIST:\n",
        "    single_orig_image = imread(os.path.join(PATH, x))\n",
        "    single_cropped_img = crop_center(single_orig_image, (crop_height,crop_width,3))\n",
        "    single_cropped_img_dim_extended = np.expand_dims(single_cropped_img, axis=0)\n",
        "    single_cropped_img_dim_extended = single_cropped_img_dim_extended / 255.0\n",
        "    pred_value = model.predict(single_cropped_img_dim_extended)\n",
        "    print(x, pred_value)\n",
        "    if pred_value > 0.5:\n",
        "        pred_list.append(1)\n",
        "        pred_flat = 1\n",
        "    else:\n",
        "        pred_list.append(0)\n",
        "        pred_flat = 0\n",
        "    des_path = out_dir + '/' + x[:-4] + '_' + str(pred_flat) + '.png'\n",
        "    imsave(des_path, single_cropped_img)\n",
        "\n",
        "\n",
        "print('Number of 0 :', pred_list.count(0))\n",
        "print('Number of 1 :', pred_list.count(1))"
      ],
      "metadata": {
        "id": "lhPaqrDB_SNb"
      },
      "execution_count": null,
      "outputs": []
    },
    {
      "cell_type": "code",
      "source": [
        "import os\n",
        "\n",
        "path = r'/content/drive/MyDrive/leukemia/C-NMC best model/High/corresponding heatmaps/all'\n",
        "all_images = os.listdir(path)\n",
        "all_images.sort()\n",
        "all_images\n",
        "\n",
        "target_path0 = r'/content/drive/MyDrive/leukemia/C-NMC best model/High/corresponding heatmaps/all/classsified'\n",
        "target_path1 = r'/content/drive/MyDrive/leukemia/C-NMC best model/High/corresponding heatmaps/all/misclasssified'\n",
        "\n",
        "for x in range (len(all_images)):\n",
        "    if all_images[x][-5:-4] == 0:\n",
        "        orig = imread(os.path.join(path, all_images[x]))\n",
        "        final_path = target_path0 + '/' + all_images[x]\n",
        "        imsave(final_path, orig)\n",
        "        print(all_images[x][:-6])\n",
        "        name = all_images[x][:-6] + '.png'\n",
        "        print('name: ', name)\n",
        "        heatmap = imread(os.path.join(path, name))\n",
        "        final_path = target_path0 + '/' + all_images[x][:-6] + '.png'\n",
        "        imsave(final_path, heatmap)\n",
        "    else:\n",
        "        orig = imread(os.path.join(path, all_images[x]))\n",
        "        final_path = target_path1 + '/' + all_images[x]\n",
        "        imsave(final_path, orig)\n",
        "        print(all_images[x])\n",
        "        print(all_images[x][:-6])\n",
        "        name = all_images[x][:-6] + '.png'\n",
        "        print('name: ', name)\n",
        "        heatmap = imread(os.path.join(path, name))\n",
        "        final_path = target_path1 + '/' + all_images[x][:-6] + '.png'\n",
        "        imsave(final_path, heatmap)"
      ],
      "metadata": {
        "id": "XSNREas2_Ywr"
      },
      "execution_count": null,
      "outputs": []
    }
  ]
}