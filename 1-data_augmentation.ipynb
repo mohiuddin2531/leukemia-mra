{
  "nbformat": 4,
  "nbformat_minor": 0,
  "metadata": {
    "colab": {
      "provenance": [],
      "gpuType": "T4"
    },
    "kernelspec": {
      "name": "python3",
      "display_name": "Python 3"
    },
    "language_info": {
      "name": "python"
    },
    "accelerator": "GPU"
  },
  "cells": [
    {
      "cell_type": "markdown",
      "source": [
        "Connect Google Drive"
      ],
      "metadata": {
        "id": "dZMXCtqv7MwH"
      }
    },
    {
      "cell_type": "code",
      "source": [
        "from google.colab import drive\n",
        "drive.mount('/content/drive')"
      ],
      "metadata": {
        "colab": {
          "base_uri": "https://localhost:8080/"
        },
        "id": "9tgE3CRKz-LD",
        "outputId": "5ce4225f-965a-426e-83e9-b36a23206a59"
      },
      "execution_count": 1,
      "outputs": [
        {
          "output_type": "stream",
          "name": "stdout",
          "text": [
            "Mounted at /content/drive\n"
          ]
        }
      ]
    },
    {
      "cell_type": "markdown",
      "source": [
        "Import Libraries"
      ],
      "metadata": {
        "id": "cvKJ7MBd7Pgv"
      }
    },
    {
      "cell_type": "code",
      "execution_count": 2,
      "metadata": {
        "id": "rdtKcO5_zWy0"
      },
      "outputs": [],
      "source": [
        "import numpy as np\n",
        "import imgaug as ia\n",
        "import imgaug.augmenters as iaa\n",
        "import numpy as np\n",
        "import os\n",
        "import cv2\n",
        "import matplotlib.pyplot as plt\n",
        "%matplotlib inline\n",
        "import operator\n",
        "import tensorflow as tf\n",
        "import random\n",
        "from tensorflow.keras.preprocessing.image import ImageDataGenerator\n",
        "import skimage\n",
        "from skimage.io import imread, imshow, imsave"
      ]
    },
    {
      "cell_type": "code",
      "source": [
        "def centerCrop(img, bounding):\n",
        "    start = tuple(map(lambda a, da: a//2-da//2, img.shape, bounding))\n",
        "    end = tuple(map(operator.add, start, bounding))\n",
        "    slices = tuple(map(slice, start, end))\n",
        "    return img[slices]"
      ],
      "metadata": {
        "id": "xDIaHdDc2J1t"
      },
      "execution_count": 3,
      "outputs": []
    },
    {
      "cell_type": "code",
      "source": [
        "train_all_path = r'/content/drive/MyDrive/Dataset/C-NMC/High Imbalance/Train - 1 to 100 ratio/all'\n",
        "train_hem_path = r'/content/drive/MyDrive/Dataset/C-NMC/High Imbalance/Train - 1 to 100 ratio/hem'"
      ],
      "metadata": {
        "id": "gCA3emJD1bVz"
      },
      "execution_count": 4,
      "outputs": []
    },
    {
      "cell_type": "code",
      "source": [
        "train_all_list = os.listdir(train_all_path)\n",
        "train_all_list.sort()\n",
        "\n",
        "train_hem_list = os.listdir(train_hem_path)\n",
        "train_hem_list.sort()\n",
        "\n",
        "\n",
        "\n",
        "print('train/all: ', len(train_all_list))\n",
        "print('train/hem :', len(train_hem_list))"
      ],
      "metadata": {
        "colab": {
          "base_uri": "https://localhost:8080/"
        },
        "id": "hw6e4B2K4Dow",
        "outputId": "3ce592a4-63d2-41d7-d6a5-450c99dba961"
      },
      "execution_count": 5,
      "outputs": [
        {
          "output_type": "stream",
          "name": "stdout",
          "text": [
            "train/all:  33\n",
            "train/hem : 3390\n"
          ]
        }
      ]
    },
    {
      "cell_type": "code",
      "source": [
        "train_all_batch = np.zeros((len(train_all_list), 210, 210, 3), dtype=np.uint8)\n",
        "train_hem_batch = np.zeros((len(train_hem_list), 210, 210, 3), dtype=np.uint8)\n",
        "\n",
        "\n",
        "print(train_all_batch.shape, train_hem_batch.shape)"
      ],
      "metadata": {
        "colab": {
          "base_uri": "https://localhost:8080/"
        },
        "id": "ukon9SyU4GpJ",
        "outputId": "94a48da4-e2e6-471f-bbb0-d97ed5b6ebee"
      },
      "execution_count": 6,
      "outputs": [
        {
          "output_type": "stream",
          "name": "stdout",
          "text": [
            "(33, 210, 210, 3) (3390, 210, 210, 3)\n"
          ]
        }
      ]
    },
    {
      "cell_type": "code",
      "source": [
        "def img_crop(list_data, batch, path):\n",
        "    i=0\n",
        "    for x in list_data:\n",
        "        image = imread(os.path.join(path, x))\n",
        "        image = centerCrop(image, (210,210,3))\n",
        "        batch[i] = image\n",
        "        i+=1\n",
        "\n",
        "    print(type(batch), batch.shape, batch.dtype, batch[0].shape, batch[0].dtype)"
      ],
      "metadata": {
        "id": "6IEiHKlB4Jgj"
      },
      "execution_count": 7,
      "outputs": []
    },
    {
      "cell_type": "code",
      "source": [
        "img_crop(train_all_list, train_all_batch, train_all_path)\n",
        "img_crop(train_hem_list, train_hem_batch, train_hem_path)"
      ],
      "metadata": {
        "colab": {
          "base_uri": "https://localhost:8080/"
        },
        "id": "slDWDi_-4Mo1",
        "outputId": "b2143c1e-1833-4f8e-a41f-e3d3e2848ee7"
      },
      "execution_count": 8,
      "outputs": [
        {
          "output_type": "stream",
          "name": "stdout",
          "text": [
            "<class 'numpy.ndarray'> (33, 210, 210, 3) uint8 (210, 210, 3) uint8\n",
            "<class 'numpy.ndarray'> (3390, 210, 210, 3) uint8 (210, 210, 3) uint8\n"
          ]
        }
      ]
    },
    {
      "cell_type": "code",
      "source": [
        "def save_img(list_data, path, batch):\n",
        "    for x in range(len(list_data)):\n",
        "        new_path = path + '/' + list_data[x]\n",
        "        print(new_path)\n",
        "        imsave(new_path ,batch[x])"
      ],
      "metadata": {
        "id": "3_h1i6G_4O-2"
      },
      "execution_count": 9,
      "outputs": []
    },
    {
      "cell_type": "code",
      "source": [
        "path = '/content/drive/MyDrive/Dataset/C-NMC/High imbalancec/10x Aug/all'\n",
        "save_img(train_all_list, path, train_all_batch)\n",
        "path = '/content/drive/MyDrive/Dataset/C-NMC/High imbalance/10x Aug/hem'\n",
        "save_img(train_hem_list, path, train_hem_batch)"
      ],
      "metadata": {
        "id": "Je6x3iM_45sr"
      },
      "execution_count": null,
      "outputs": []
    },
    {
      "cell_type": "code",
      "source": [
        "sometimes = lambda aug: iaa.Sometimes(0.5, aug)\n",
        "seq = iaa.Sequential([\n",
        "\n",
        "        iaa.Fliplr(0.5),\n",
        "        iaa.Flipud(0.2),\n",
        "\n",
        "         iaa.Crop(percent=(0, 0.1)),\n",
        "\n",
        "        sometimes(iaa.CropAndPad(\n",
        "            pad_mode=ia.ALL,\n",
        "            percent=(-0.05, 0.1),\n",
        "            pad_cval=(0, 255)\n",
        "        )),\n",
        "\n",
        "      sometimes(iaa.Affine(\n",
        "            scale={\"x\": (0.8, 1.2), \"y\": (0.8, 1.2)},\n",
        "            translate_percent={\"x\": (-0.2, 0.2), \"y\": (-0.2, 0.2)},\n",
        "            rotate=(-45, 45),\n",
        "\n",
        "        )),\n",
        "],\n",
        "random_order=True\n",
        ")"
      ],
      "metadata": {
        "id": "1jeqIb2p8mA9"
      },
      "execution_count": null,
      "outputs": []
    },
    {
      "cell_type": "code",
      "source": [
        "def AugSave(seq, batch, list_data, path, n):\n",
        "    images_aug = seq(images=batch)\n",
        "    print(type(images_aug), images_aug.shape, images_aug.dtype, np.max(images_aug), np.min(images_aug), images_aug[0].shape, images_aug[0].dtype, np.max(images_aug[0]), np.min(images_aug[0]))\n",
        "    for x in range(len(list_data)):\n",
        "        new_path = path + '/' + str(n) + 'Aug_' + list_data[x]\n",
        "        print(new_path)\n",
        "        imsave(new_path ,images_aug[x])"
      ],
      "metadata": {
        "id": "aD-RaqI3806N"
      },
      "execution_count": null,
      "outputs": []
    },
    {
      "cell_type": "code",
      "source": [
        "times2augment = 10\n",
        "path = '/content/drive/MyDrive/Dataset/C-NMC/High imbalance/10x Aug/all'\n",
        "for x in range(times2augment):\n",
        "    AugSave(seq,train_all_batch, train_all_list, path, x+1)"
      ],
      "metadata": {
        "id": "KsP-xCDo86ff"
      },
      "execution_count": null,
      "outputs": []
    }
  ]
}